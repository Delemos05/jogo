{
  "nbformat": 4,
  "nbformat_minor": 0,
  "metadata": {
    "colab": {
      "provenance": [],
      "authorship_tag": "ABX9TyOQJBJJYOw/qeur+f+pNKcL",
      "include_colab_link": true
    },
    "kernelspec": {
      "name": "python3",
      "display_name": "Python 3"
    },
    "language_info": {
      "name": "python"
    }
  },
  "cells": [
    {
      "cell_type": "markdown",
      "metadata": {
        "id": "view-in-github",
        "colab_type": "text"
      },
      "source": [
        "<a href=\"https://colab.research.google.com/github/Delemos05/desktop-tutorial/blob/main/Jogo%20da%20sorte.ipynb\" target=\"_parent\"><img src=\"https://colab.research.google.com/assets/colab-badge.svg\" alt=\"Open In Colab\"/></a>"
      ]
    },
    {
      "cell_type": "code",
      "execution_count": 1,
      "metadata": {
        "colab": {
          "base_uri": "https://localhost:8080/"
        },
        "id": "t0NwPv5Vtaj_",
        "outputId": "478113a8-17e7-42ab-945b-39a144285d84"
      },
      "outputs": [
        {
          "output_type": "stream",
          "name": "stdout",
          "text": [
            "--=----=----=----=----=----=----=----=----=----=----=----=----=----=----=--\n",
            "Vou pensar em um número entre 0 e 5 e você deverá tentar adivinhá-lo.\n",
            "--=----=----=----=----=----=----=----=----=----=----=----=----=----=----=--\n",
            "Em qual número você acha que eu pensei?: \n",
            "4\n",
            "Pensando...\n",
            "Número digitado: 4.\n",
            "VOCÊ ERROU. \n",
            "O número correto era 5. Tente novamente.\n"
          ]
        }
      ],
      "source": [
        "from random import randint\n",
        "from time import sleep\n",
        "ran = randint(0, 5)\n",
        "\n",
        "print(\"--=--\" * 15)\n",
        "print(\"Vou pensar em um número entre 0 e 5 e você deverá tentar adivinhá-lo.\")\n",
        "print(\"--=--\" * 15)\n",
        "num = int(input(\"Em qual número você acha que eu pensei?: \\n\"))\n",
        "print(\"Pensando...\")\n",
        "sleep(1)\n",
        "\n",
        "if num > 5 or num < 0:\n",
        "    if num < 0:\n",
        "        print(\"O número não pode ser negativo.\")\n",
        "    else:\n",
        "        print(\"Dica: o número está entre 0 e 5!\")\n",
        "else:\n",
        "    if num == ran:\n",
        "        print(\"Número digitado: {}.\".format(num))\n",
        "        print(\"Parabéns, você venceu!\")\n",
        "    else:\n",
        "        print(\"Número digitado: {}.\".format(num))\n",
        "        print(\"VOCÊ ERROU. \\nO número correto era {}. Tente novamente.\".format(ran))\n"
      ]
    }
  ]
}